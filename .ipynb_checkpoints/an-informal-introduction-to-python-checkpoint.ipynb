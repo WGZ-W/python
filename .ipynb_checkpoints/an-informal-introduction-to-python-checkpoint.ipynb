{
 "cells": [
  {
   "cell_type": "markdown",
   "id": "11fc3e3f-a293-466b-ac97-d48194a55405",
   "metadata": {},
   "source": [
    "# Numbers"
   ]
  },
  {
   "cell_type": "code",
   "execution_count": 1,
   "id": "f140a283-73cd-4406-afa1-f58c07e3ecf6",
   "metadata": {},
   "outputs": [
    {
     "data": {
      "text/plain": [
       "4"
      ]
     },
     "execution_count": 1,
     "metadata": {},
     "output_type": "execute_result"
    }
   ],
   "source": [
    "2 + 2"
   ]
  },
  {
   "cell_type": "code",
   "execution_count": 3,
   "id": "1a988e55-8df5-4035-91a1-37f3b515ef76",
   "metadata": {},
   "outputs": [
    {
     "data": {
      "text/plain": [
       "1.6"
      ]
     },
     "execution_count": 3,
     "metadata": {},
     "output_type": "execute_result"
    }
   ],
   "source": [
    "8 / 5  # 除法运算总是返回一个浮点数"
   ]
  },
  {
   "cell_type": "code",
   "execution_count": 4,
   "id": "1f98518b-0309-4bf4-bcfe-021d8ea1f29a",
   "metadata": {},
   "outputs": [
    {
     "data": {
      "text/plain": [
       "5"
      ]
     },
     "execution_count": 4,
     "metadata": {},
     "output_type": "execute_result"
    }
   ],
   "source": [
    "17 // 3  # 向下取整除法运算会丢弃小数部分"
   ]
  },
  {
   "cell_type": "code",
   "execution_count": 5,
   "id": "93a8f913-ce19-4c9e-b7c6-8ce85f129c48",
   "metadata": {},
   "outputs": [
    {
     "data": {
      "text/plain": [
       "2"
      ]
     },
     "execution_count": 5,
     "metadata": {},
     "output_type": "execute_result"
    }
   ],
   "source": [
    "17 % 3  # % 运算返回相除的余数"
   ]
  },
  {
   "cell_type": "code",
   "execution_count": 6,
   "id": "3b40c631-4ba9-4206-a9d0-c0b2ebc34f5d",
   "metadata": {},
   "outputs": [
    {
     "data": {
      "text/plain": [
       "25"
      ]
     },
     "execution_count": 6,
     "metadata": {},
     "output_type": "execute_result"
    }
   ],
   "source": [
    "5 ** 2  # 5 的平方"
   ]
  },
  {
   "cell_type": "code",
   "execution_count": 7,
   "id": "379c1c10-8d2f-4285-9b1f-f4a89d59fd03",
   "metadata": {},
   "outputs": [
    {
     "data": {
      "text/plain": [
       "14.0"
      ]
     },
     "execution_count": 7,
     "metadata": {},
     "output_type": "execute_result"
    }
   ],
   "source": [
    "4 * 3.75 - 1  # 混合类型运算数的运算会把整数转换为浮点数"
   ]
  },
  {
   "cell_type": "markdown",
   "id": "caa56603-523e-47b9-8383-e50756caa9fd",
   "metadata": {},
   "source": [
    "# Text"
   ]
  },
  {
   "cell_type": "code",
   "execution_count": 10,
   "id": "deac8439-0109-49d3-bcd1-6b2b1170f228",
   "metadata": {},
   "outputs": [
    {
     "data": {
      "text/plain": [
       "'1975'"
      ]
     },
     "execution_count": 10,
     "metadata": {},
     "output_type": "execute_result"
    }
   ],
   "source": [
    "# 可以用成对的单引号('...') 或双引号 (\"...\") 来标示，结果完全相同\n",
    "'spam eggs'  # single quotes\n",
    "\"Paris rabbit got your back :)! Yay!\"  # double quotes\n",
    "'1975'  # digits and numerals enclosed in quotes are also strings"
   ]
  },
  {
   "cell_type": "code",
   "execution_count": 12,
   "id": "6a7ffbcf-b9be-4301-ada7-a46e05d39702",
   "metadata": {},
   "outputs": [
    {
     "data": {
      "text/plain": [
       "'\"Isn\\'t,\" they said.'"
      ]
     },
     "execution_count": 12,
     "metadata": {},
     "output_type": "execute_result"
    }
   ],
   "source": [
    "'doesn\\'t'  # 使用 \\' 来转义单引号...\n",
    "\"doesn't\"  # ...或者改用双引号\n",
    "'\"Yes,\" they said.'\n",
    "\"\\\"Yes,\\\" they said.\"\n",
    "'\"Isn\\'t,\" they said.'"
   ]
  },
  {
   "cell_type": "code",
   "execution_count": 17,
   "id": "534d27dc-dd3a-4249-8a4c-d75c0a7729da",
   "metadata": {},
   "outputs": [
    {
     "name": "stdout",
     "output_type": "stream",
     "text": [
      "First line.\n",
      "Second line.\n"
     ]
    }
   ],
   "source": [
    "s = 'First line.\\nSecond line.'  # \\n 表示换行符\n",
    "s  # 不用 print()，特殊字符将包括在字符串中\n",
    "print(s)  # 用 print()，特殊字符会被转写，因此 \\n 将产生一个新行"
   ]
  },
  {
   "cell_type": "code",
   "execution_count": 19,
   "id": "fd5e87bb-bab0-444a-a054-2beeddca2df7",
   "metadata": {},
   "outputs": [
    {
     "name": "stdout",
     "output_type": "stream",
     "text": [
      "C:\\some\n",
      "ame\n",
      "C:\\some\\name\n"
     ]
    }
   ],
   "source": [
    "print('C:\\some\\name')  # 这里 \\n 表示换行符！\n",
    "print(r'C:\\some\\name')  # 请注意引号前的 r"
   ]
  },
  {
   "cell_type": "code",
   "execution_count": 20,
   "id": "2fd46548-119a-4961-a191-e89e9b1cda38",
   "metadata": {},
   "outputs": [
    {
     "name": "stdout",
     "output_type": "stream",
     "text": [
      "Usage: thingy [OPTIONS]\n",
      "     -h                        Display this usage message\n",
      "     -H hostname               Hostname to connect to\n",
      "\n"
     ]
    }
   ],
   "source": [
    "print(\"\"\"\\\n",
    "Usage: thingy [OPTIONS]\n",
    "     -h                        Display this usage message\n",
    "     -H hostname               Hostname to connect to\n",
    "\"\"\")"
   ]
  },
  {
   "cell_type": "code",
   "execution_count": 21,
   "id": "7aa22bf0-9905-48a1-954e-921639fe1d53",
   "metadata": {},
   "outputs": [
    {
     "name": "stdout",
     "output_type": "stream",
     "text": [
      "0\n",
      "1\n",
      "1\n",
      "2\n",
      "3\n",
      "5\n",
      "8\n"
     ]
    }
   ],
   "source": [
    "# 斐波那契数列：\n",
    "# 前两项之和即下一项的值\n",
    "a, b = 0, 1\n",
    "while a < 10:\n",
    "    print(a)\n",
    "    a, b = b, a+b"
   ]
  },
  {
   "cell_type": "code",
   "execution_count": null,
   "id": "9abfea15-4752-4013-97c6-b4760686de1e",
   "metadata": {},
   "outputs": [],
   "source": []
  }
 ],
 "metadata": {
  "kernelspec": {
   "display_name": "Python 3 (ipykernel)",
   "language": "python",
   "name": "python3"
  },
  "language_info": {
   "codemirror_mode": {
    "name": "ipython",
    "version": 3
   },
   "file_extension": ".py",
   "mimetype": "text/x-python",
   "name": "python",
   "nbconvert_exporter": "python",
   "pygments_lexer": "ipython3",
   "version": "3.11.6"
  }
 },
 "nbformat": 4,
 "nbformat_minor": 5
}
